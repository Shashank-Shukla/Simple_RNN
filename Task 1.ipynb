{
 "cells": [
  {
   "cell_type": "markdown",
   "metadata": {},
   "source": [
    "# Making Your Model Learn Addition!\n",
    "## Task 1: Introduction\n",
    "\n",
    "Given the string \"54+7\", the model should return a prediction: \"61\"."
   ]
  },
  {
   "cell_type": "code",
   "execution_count": 1,
   "metadata": {},
   "outputs": [],
   "source": [
    "import numpy as np\n",
    "\n",
    "from tensorflow.keras.models import Sequential\n",
    "from tensorflow.keras.layers import TimeDistributed, Dense, Dropout, SimpleRNN, RepeatVector\n",
    "from tensorflow.keras.callbacks import EarlyStopping, LambdaCallback\n",
    "\n",
    "from termcolor import colored"
   ]
  },
  {
   "cell_type": "markdown",
   "metadata": {},
   "source": [
    "## Task 2: Generate Data\n",
    "___\n",
    "Note: If you are starting the notebook from this task, you can run cells from all previous tasks in the kernel by going to the top menu and then selecting Kernel > Restart and Run All\n",
    "___"
   ]
  },
  {
   "cell_type": "code",
   "execution_count": 3,
   "metadata": {
    "colab": {
     "base_uri": "https://localhost:8080/",
     "height": 34
    },
    "colab_type": "code",
    "id": "hP-OyQrivBNl",
    "outputId": "70a8ce77-3241-4ea9-dbc7-d9bebb3789f3"
   },
   "outputs": [
    {
     "name": "stdout",
     "output_type": "stream",
     "text": [
      "Number of features =  11\n"
     ]
    }
   ],
   "source": [
    "all_char = '0123456789+'\n",
    "# Convert these char to 1-hot encoded list\n",
    "no_features = len(all_char)\n",
    "print(\"Number of features = \",no_features)"
   ]
  },
  {
   "cell_type": "code",
   "execution_count": 4,
   "metadata": {},
   "outputs": [],
   "source": [
    "char_to_index = dict((key, i) for i,key in enumerate(all_char))\n",
    "index_to_char = dict((i, key) for i, key in enumerate(all_char))"
   ]
  },
  {
   "cell_type": "code",
   "execution_count": 6,
   "metadata": {
    "colab": {},
    "colab_type": "code",
    "id": "L2b1Xg9hvBNr"
   },
   "outputs": [
    {
     "data": {
      "text/plain": [
       "('91+96', '187')"
      ]
     },
     "execution_count": 6,
     "metadata": {},
     "output_type": "execute_result"
    }
   ],
   "source": [
    "def gen_data():\n",
    "    first = np.random.randint(0,100)\n",
    "    second = np.random.randint(0,100)\n",
    "    example = str(first)+'+'+str(second)\n",
    "    label = str(first+second)\n",
    "    return example, label\n",
    "    \n",
    "gen_data()"
   ]
  },
  {
   "cell_type": "markdown",
   "metadata": {},
   "source": [
    "## Task 3: Create the Model\n",
    "___\n",
    "Note: If you are starting the notebook from this task, you can run cells from all previous tasks in the kernel by going to the top menu and then selecting Kernel > Restart and Run All\n",
    "___\n",
    "Consider these two reviews:\n",
    "\n",
    "Review 1: This movie is not terrible at all.\n",
    "\n",
    "Review 2: This movie is pretty decent."
   ]
  },
  {
   "cell_type": "code",
   "execution_count": 9,
   "metadata": {
    "colab": {
     "base_uri": "https://localhost:8080/",
     "height": 377
    },
    "colab_type": "code",
    "id": "iZKl0LtdvBNy",
    "outputId": "34a3c344-5985-4e3b-e1ac-392c18739308"
   },
   "outputs": [
    {
     "name": "stdout",
     "output_type": "stream",
     "text": [
      "_________________________________________________________________\n",
      "Layer (type)                 Output Shape              Param #   \n",
      "=================================================================\n",
      "simple_rnn_2 (SimpleRNN)     (None, 128)               17920     \n",
      "_________________________________________________________________\n",
      "repeat_vector_2 (RepeatVecto (None, 5, 128)            0         \n",
      "_________________________________________________________________\n",
      "simple_rnn_3 (SimpleRNN)     (None, 5, 128)            32896     \n",
      "_________________________________________________________________\n",
      "time_distributed (TimeDistri (None, 5, 11)             1419      \n",
      "=================================================================\n",
      "Total params: 52,235\n",
      "Trainable params: 52,235\n",
      "Non-trainable params: 0\n",
      "_________________________________________________________________\n"
     ]
    }
   ],
   "source": [
    "# RNN allow us to input varied length features and labels\n",
    "# Eg: Sentiment analysis\n",
    "# Simple RNN is a FC RNN, /p is feb back as i/p\n",
    "# activation used = 'tanh'\n",
    "hidden_units = 128\n",
    "# max length of the expression will be 5 units long | '99+99'\n",
    "max_time_steps = 5   # Time steps may vary\n",
    "model = Sequential([SimpleRNN(hidden_units, input_shape=(None, no_features)),\n",
    "                   RepeatVector(max_time_steps),\n",
    "                   # Encoder^ | Decoder:\n",
    "                   SimpleRNN(hidden_units, return_sequences=True),\n",
    "                   TimeDistributed(Dense(no_features, activation='softmax'))])\n",
    "# input shape will be const as no_features is const, batch_size may vary\n",
    "model.compile(loss='categorical_crossentropy',\n",
    "             optimizer='adam',\n",
    "             metrics=['accuracy'])\n",
    "model.summary()"
   ]
  },
  {
   "cell_type": "markdown",
   "metadata": {},
   "source": [
    "## Task 4: Vectorize and De-Vectorize Data\n",
    "___\n",
    "Note: If you are starting the notebook from this task, you can run cells from all previous tasks in the kernel by going to the top menu and then selecting Kernel > Restart and Run All\n",
    "___"
   ]
  },
  {
   "cell_type": "code",
   "execution_count": 12,
   "metadata": {
    "colab": {},
    "colab_type": "code",
    "id": "Ci29YaA6vBN1"
   },
   "outputs": [
    {
     "name": "stdout",
     "output_type": "stream",
     "text": [
      "25+79 104\n",
      "(5, 11) (5, 11)\n"
     ]
    }
   ],
   "source": [
    "def vectorize_eg(example, label):\n",
    "    x=np.zeros((max_time_steps, no_features))\n",
    "    y=np.zeros((max_time_steps,no_features))\n",
    "    # Here we padded with 0's to make them of the same length as time steps is ariable\n",
    "    \n",
    "    diffx=max_time_steps-len(example)\n",
    "    diffy=max_time_steps-len(label)\n",
    "    \n",
    "    # Now 1-hot encode\n",
    "    for i, key in enumerate(example):\n",
    "        x[i+diffx, char_to_index[key]] = 1\n",
    "    for i in range(diffx):\n",
    "        # Hardcoding the positional value\n",
    "        x[i, char_to_index['0']] = 1\n",
    "    for i, key in enumerate(label):\n",
    "        y[i+diffy, char_to_index[key]] = 1\n",
    "    for i in range(diffy):\n",
    "        y[i, char_to_index['0']] = 1\n",
    "    return x,y\n",
    "e,l = gen_data()\n",
    "print(e,l)\n",
    "x,y = vectorize_eg(e,l)\n",
    "print(x.shape,y.shape)"
   ]
  },
  {
   "cell_type": "code",
   "execution_count": 14,
   "metadata": {
    "colab": {},
    "colab_type": "code",
    "id": "_nARKq-bvBN9"
   },
   "outputs": [
    {
     "data": {
      "text/plain": [
       "'25+79'"
      ]
     },
     "execution_count": 14,
     "metadata": {},
     "output_type": "execute_result"
    }
   ],
   "source": [
    "def devectorize_eg(example):\n",
    "    # index2char dict used convert index to char\n",
    "    # argmax to get the index with max value\n",
    "    result = [index_to_char[np.argmax(vec)] for i, vec in enumerate(example)]\n",
    "    # outputs a list of char. Join all of them to form a string\n",
    "    return ''.join(result)\n",
    "devectorize_eg(x)"
   ]
  },
  {
   "cell_type": "code",
   "execution_count": 15,
   "metadata": {
    "colab": {
     "base_uri": "https://localhost:8080/",
     "height": 34
    },
    "colab_type": "code",
    "id": "KCGUxNwNvBOA",
    "outputId": "a721451a-7f7c-42be-bdf0-0c96381f2eb2"
   },
   "outputs": [
    {
     "data": {
      "text/plain": [
       "'00104'"
      ]
     },
     "execution_count": 15,
     "metadata": {},
     "output_type": "execute_result"
    }
   ],
   "source": [
    "devectorize_eg(y)\n",
    "# As we see here, y has been padded with 0's"
   ]
  },
  {
   "cell_type": "markdown",
   "metadata": {},
   "source": [
    "## Task 5: Create Dataset\n",
    "___\n",
    "Note: If you are starting the notebook from this task, you can run cells from all previous tasks in the kernel by going to the top menu and then selecting Kernel > Restart and Run All\n",
    "___"
   ]
  },
  {
   "cell_type": "code",
   "execution_count": null,
   "metadata": {
    "colab": {
     "base_uri": "https://localhost:8080/",
     "height": 34
    },
    "colab_type": "code",
    "id": "T5rdrhiVvBOI",
    "outputId": "426b3722-78cf-494f-8bbf-1cdf7eab3113"
   },
   "outputs": [],
   "source": []
  },
  {
   "cell_type": "code",
   "execution_count": null,
   "metadata": {
    "colab": {
     "base_uri": "https://localhost:8080/",
     "height": 34
    },
    "colab_type": "code",
    "id": "RRwiuwcQvBOL",
    "outputId": "07591064-5c57-4adb-ccf6-c226457d2263"
   },
   "outputs": [],
   "source": []
  },
  {
   "cell_type": "code",
   "execution_count": null,
   "metadata": {
    "colab": {
     "base_uri": "https://localhost:8080/",
     "height": 34
    },
    "colab_type": "code",
    "id": "cRUvtd0IvBOO",
    "outputId": "d07ce279-06ba-44c4-de91-0ec4fb551877"
   },
   "outputs": [],
   "source": []
  },
  {
   "cell_type": "markdown",
   "metadata": {},
   "source": [
    "## Task 6: Training the Model\n",
    "___\n",
    "Note: If you are starting the notebook from this task, you can run cells from all previous tasks in the kernel by going to the top menu and then selecting Kernel > Restart and Run All\n",
    "___"
   ]
  },
  {
   "cell_type": "code",
   "execution_count": null,
   "metadata": {
    "colab": {
     "base_uri": "https://localhost:8080/",
     "height": 2686
    },
    "colab_type": "code",
    "id": "S8HWRdiOvBOS",
    "outputId": "2365b11f-30e8-48cc-e940-4d3267771fbe"
   },
   "outputs": [],
   "source": []
  },
  {
   "cell_type": "code",
   "execution_count": null,
   "metadata": {
    "colab": {
     "base_uri": "https://localhost:8080/",
     "height": 187
    },
    "colab_type": "code",
    "id": "tlNtu_9ZvBOY",
    "outputId": "82198555-f0e8-4a7a-9125-cc61cf4f4a26"
   },
   "outputs": [],
   "source": []
  }
 ],
 "metadata": {
  "accelerator": "GPU",
  "colab": {
   "collapsed_sections": [],
   "name": "addition_simpleRNN.ipynb",
   "provenance": [],
   "version": "0.3.2"
  },
  "kernelspec": {
   "display_name": "Python 3",
   "language": "python",
   "name": "python3"
  },
  "language_info": {
   "codemirror_mode": {
    "name": "ipython",
    "version": 3
   },
   "file_extension": ".py",
   "mimetype": "text/x-python",
   "name": "python",
   "nbconvert_exporter": "python",
   "pygments_lexer": "ipython3",
   "version": "3.6.8"
  }
 },
 "nbformat": 4,
 "nbformat_minor": 1
}
